{
 "cells": [
  {
   "cell_type": "code",
   "execution_count": 1,
   "metadata": {},
   "outputs": [],
   "source": [
    "import os\n",
    "import numpy as np\n",
    "import pandas as pd\n",
    "import glob\n",
    "from itertools import compress\n",
    "import re\n",
    "import seaborn as sns\n",
    "import matplotlib.pyplot as plt\n",
    "%matplotlib inline"
   ]
  },
  {
   "cell_type": "code",
   "execution_count": 2,
   "metadata": {},
   "outputs": [],
   "source": [
    "mx_names =[\"Gene-level copy number\", \"Gene-level threshold\", \"Region-level copy number\", \"Region-level threshold\"]\n",
    "sumfeatures = [\"# features\", \"Mean\", \"Min\", \"25%\", \"Median\", \"75%\", \"Max\", \"% positive entries\", \"% negative entries\", \"% zero entries\"]"
   ]
  },
  {
   "cell_type": "code",
   "execution_count": 3,
   "metadata": {},
   "outputs": [],
   "source": [
    "def mx_sumstats(mx):\n",
    "    sumstat_dict = {}\n",
    "    sumfeatures = [\"# features\", \"Mean\", \"Min\", \"25%\", \"Median\", \"75%\", \"Max\", \"% positive entries\", \"% negative entries\", \"% zero entries\"]\n",
    "    for sumfeature in sumfeatures:\n",
    "        sumstat_dict[sumfeatures[0]] = len(mx.columns) # number of features \n",
    "        sumstat_dict[sumfeatures[1]] = np.mean(mx.to_numpy().ravel()) # mean of all entries \n",
    "        sumstat_dict[sumfeatures[2]] = np.quantile(mx.to_numpy().ravel(), 0)\n",
    "        sumstat_dict[sumfeatures[3]] = np.quantile(mx.to_numpy().ravel(), 0.25)\n",
    "        sumstat_dict[sumfeatures[4]] = np.quantile(mx.to_numpy().ravel(), 0.5)\n",
    "        sumstat_dict[sumfeatures[5]] = np.quantile(mx.to_numpy().ravel(), 0.75)\n",
    "        sumstat_dict[sumfeatures[6]] = np.quantile(mx.to_numpy().ravel(), 1)\n",
    "        sumstat_dict[sumfeatures[7]] = 100*np.sum(mx.to_numpy().ravel()>0)/len(mx.to_numpy().ravel())\n",
    "        sumstat_dict[sumfeatures[8]] = 100*np.sum(mx.to_numpy().ravel()<0)/len(mx.to_numpy().ravel())\n",
    "        sumstat_dict[sumfeatures[9]] = 100*np.sum(mx.to_numpy().ravel()==0)/len(mx.to_numpy().ravel())\n",
    "    return sumstat_dict"
   ]
  },
  {
   "cell_type": "code",
   "execution_count": 21,
   "metadata": {},
   "outputs": [],
   "source": [
    "def applyThres(table, thres=0.05):\n",
    "    # table: Pandas DataFrame\n",
    "    # thres: float\n",
    "    bool_col = [] # list of boolean indicating the columns to keep at True\n",
    "    for colname in table.columns:\n",
    "        ct = 0\n",
    "        for i in range(len(table[colname])):\n",
    "            if table[colname][i] != 0:\n",
    "                ct += 1\n",
    "            else:\n",
    "                continue\n",
    "        rate = ct/len(table[colname])\n",
    "        if ((rate < thres) | (rate > (1-thres))): # change this so that we only eliminate features that are rare?? (because common can add value?)\n",
    "            bool_col.append(False)\n",
    "        else:\n",
    "            bool_col.append(True)    \n",
    "    return table.iloc[:,bool_col]\n",
    "\n",
    "def applyThres_featuresize(table, thres=[0.05, 0.10, 0.20, 0.25]):\n",
    "    # fs_dict is a dictionary summarizing how feature size is affected by freq-based reduction \n",
    "    fs_dict = {}\n",
    "    fs_dict[\"Original\"] = table.shape[1]\n",
    "    fs_dict[\"0.05\"] = applyThres(table, thres=0.05).shape[1]\n",
    "    fs_dict[\"0.10\"] = applyThres(table, thres=0.10).shape[1]\n",
    "    fs_dict[\"0.20\"] = applyThres(table, thres=0.20).shape[1]\n",
    "    fs_dict[\"0.25\"] = applyThres(table, thres=0.25).shape[1]\n",
    "    return fs_dict\n"
   ]
  },
  {
   "cell_type": "markdown",
   "metadata": {},
   "source": [
    "# Overall Distribution of GISTIC2.0 outputs with conf=0.75"
   ]
  },
  {
   "cell_type": "code",
   "execution_count": 5,
   "metadata": {},
   "outputs": [],
   "source": [
    "gene_copy = pd.read_csv(\"../../gistic2_out_conf75/gene_copy_conf75.csv\", header=0, index_col=0)\n",
    "gene_thres = pd.read_csv(\"../../gistic2_out_conf75/gene_thres_conf75.csv\", header=0, index_col=0)\n",
    "reg_copy = pd.read_csv(\"../../gistic2_out_conf75/reg_copy_conf75.csv\", header=0, index_col=0).T\n",
    "reg_thres = pd.read_csv(\"../../gistic2_out_conf75/reg_thres_conf75.csv\", header=0, index_col=0).T"
   ]
  },
  {
   "cell_type": "code",
   "execution_count": 6,
   "metadata": {},
   "outputs": [],
   "source": [
    "mx_dicts = {}\n",
    "\n",
    "for i in range(len([gene_copy, gene_thres, reg_copy, reg_thres])):\n",
    "    mx_dicts[mx_names[i]] = [gene_copy, gene_thres, reg_copy, reg_thres][i]"
   ]
  },
  {
   "cell_type": "code",
   "execution_count": 7,
   "metadata": {},
   "outputs": [],
   "source": [
    "sum_table = pd.DataFrame(None, index=mx_names, columns=sumfeatures)\n",
    "\n",
    "for mxkey in mx_dicts.keys():\n",
    "    sumstatdict = mx_sumstats(mx_dicts[mxkey])\n",
    "    for sumkey in sumstatdict.keys():\n",
    "        sum_table.loc[mxkey][sumkey] = sumstatdict[sumkey]"
   ]
  },
  {
   "cell_type": "code",
   "execution_count": 8,
   "metadata": {},
   "outputs": [
    {
     "data": {
      "text/html": [
       "<div>\n",
       "<style scoped>\n",
       "    .dataframe tbody tr th:only-of-type {\n",
       "        vertical-align: middle;\n",
       "    }\n",
       "\n",
       "    .dataframe tbody tr th {\n",
       "        vertical-align: top;\n",
       "    }\n",
       "\n",
       "    .dataframe thead th {\n",
       "        text-align: right;\n",
       "    }\n",
       "</style>\n",
       "<table border=\"1\" class=\"dataframe\">\n",
       "  <thead>\n",
       "    <tr style=\"text-align: right;\">\n",
       "      <th></th>\n",
       "      <th>Gene-level copy number</th>\n",
       "      <th>Gene-level threshold</th>\n",
       "      <th>Region-level copy number</th>\n",
       "      <th>Region-level threshold</th>\n",
       "    </tr>\n",
       "  </thead>\n",
       "  <tbody>\n",
       "    <tr>\n",
       "      <td># features</td>\n",
       "      <td>25988</td>\n",
       "      <td>25988</td>\n",
       "      <td>638</td>\n",
       "      <td>638</td>\n",
       "    </tr>\n",
       "    <tr>\n",
       "      <td>Mean</td>\n",
       "      <td>0.0193007</td>\n",
       "      <td>0.135262</td>\n",
       "      <td>-0.0171783</td>\n",
       "      <td>-0.0171783</td>\n",
       "    </tr>\n",
       "    <tr>\n",
       "      <td>Min</td>\n",
       "      <td>-1.293</td>\n",
       "      <td>-2</td>\n",
       "      <td>-1.2929</td>\n",
       "      <td>-1.2929</td>\n",
       "    </tr>\n",
       "    <tr>\n",
       "      <td>25%</td>\n",
       "      <td>-0.045</td>\n",
       "      <td>0</td>\n",
       "      <td>-0.0981028</td>\n",
       "      <td>-0.0981028</td>\n",
       "    </tr>\n",
       "    <tr>\n",
       "      <td>Median</td>\n",
       "      <td>0.006</td>\n",
       "      <td>0</td>\n",
       "      <td>5.1987e-05</td>\n",
       "      <td>5.1987e-05</td>\n",
       "    </tr>\n",
       "    <tr>\n",
       "      <td>75%</td>\n",
       "      <td>0.093</td>\n",
       "      <td>0</td>\n",
       "      <td>0.10412</td>\n",
       "      <td>0.10412</td>\n",
       "    </tr>\n",
       "    <tr>\n",
       "      <td>Max</td>\n",
       "      <td>3.657</td>\n",
       "      <td>2</td>\n",
       "      <td>3.6569</td>\n",
       "      <td>3.6569</td>\n",
       "    </tr>\n",
       "    <tr>\n",
       "      <td>% positive entries</td>\n",
       "      <td>53.4197</td>\n",
       "      <td>23.9989</td>\n",
       "      <td>50.0476</td>\n",
       "      <td>50.0476</td>\n",
       "    </tr>\n",
       "    <tr>\n",
       "      <td>% negative entries</td>\n",
       "      <td>43.6112</td>\n",
       "      <td>16.088</td>\n",
       "      <td>48.0856</td>\n",
       "      <td>48.0856</td>\n",
       "    </tr>\n",
       "    <tr>\n",
       "      <td>% zero entries</td>\n",
       "      <td>2.96913</td>\n",
       "      <td>59.9131</td>\n",
       "      <td>1.86684</td>\n",
       "      <td>1.86684</td>\n",
       "    </tr>\n",
       "  </tbody>\n",
       "</table>\n",
       "</div>"
      ],
      "text/plain": [
       "                   Gene-level copy number Gene-level threshold  \\\n",
       "# features                          25988                25988   \n",
       "Mean                            0.0193007             0.135262   \n",
       "Min                                -1.293                   -2   \n",
       "25%                                -0.045                    0   \n",
       "Median                              0.006                    0   \n",
       "75%                                 0.093                    0   \n",
       "Max                                 3.657                    2   \n",
       "% positive entries                53.4197              23.9989   \n",
       "% negative entries                43.6112               16.088   \n",
       "% zero entries                    2.96913              59.9131   \n",
       "\n",
       "                   Region-level copy number Region-level threshold  \n",
       "# features                              638                    638  \n",
       "Mean                             -0.0171783             -0.0171783  \n",
       "Min                                 -1.2929                -1.2929  \n",
       "25%                              -0.0981028             -0.0981028  \n",
       "Median                           5.1987e-05             5.1987e-05  \n",
       "75%                                 0.10412                0.10412  \n",
       "Max                                  3.6569                 3.6569  \n",
       "% positive entries                  50.0476                50.0476  \n",
       "% negative entries                  48.0856                48.0856  \n",
       "% zero entries                      1.86684                1.86684  "
      ]
     },
     "execution_count": 8,
     "metadata": {},
     "output_type": "execute_result"
    }
   ],
   "source": [
    "sum_table.T"
   ]
  },
  {
   "cell_type": "code",
   "execution_count": 25,
   "metadata": {},
   "outputs": [
    {
     "data": {
      "text/html": [
       "<div>\n",
       "<style scoped>\n",
       "    .dataframe tbody tr th:only-of-type {\n",
       "        vertical-align: middle;\n",
       "    }\n",
       "\n",
       "    .dataframe tbody tr th {\n",
       "        vertical-align: top;\n",
       "    }\n",
       "\n",
       "    .dataframe thead th {\n",
       "        text-align: right;\n",
       "    }\n",
       "</style>\n",
       "<table border=\"1\" class=\"dataframe\">\n",
       "  <thead>\n",
       "    <tr style=\"text-align: right;\">\n",
       "      <th></th>\n",
       "      <th>Gene-level copy number</th>\n",
       "      <th>Gene-level threshold</th>\n",
       "      <th>Region-level copy number</th>\n",
       "      <th>Region-level threshold</th>\n",
       "    </tr>\n",
       "  </thead>\n",
       "  <tbody>\n",
       "    <tr>\n",
       "      <td>Original</td>\n",
       "      <td>25988</td>\n",
       "      <td>25988</td>\n",
       "      <td>638</td>\n",
       "      <td>638</td>\n",
       "    </tr>\n",
       "    <tr>\n",
       "      <td>0.05</td>\n",
       "      <td>5569</td>\n",
       "      <td>25786</td>\n",
       "      <td>72</td>\n",
       "      <td>72</td>\n",
       "    </tr>\n",
       "    <tr>\n",
       "      <td>0.10</td>\n",
       "      <td>638</td>\n",
       "      <td>25119</td>\n",
       "      <td>2</td>\n",
       "      <td>2</td>\n",
       "    </tr>\n",
       "    <tr>\n",
       "      <td>0.20</td>\n",
       "      <td>0</td>\n",
       "      <td>18756</td>\n",
       "      <td>0</td>\n",
       "      <td>0</td>\n",
       "    </tr>\n",
       "    <tr>\n",
       "      <td>0.25</td>\n",
       "      <td>0</td>\n",
       "      <td>14983</td>\n",
       "      <td>0</td>\n",
       "      <td>0</td>\n",
       "    </tr>\n",
       "  </tbody>\n",
       "</table>\n",
       "</div>"
      ],
      "text/plain": [
       "         Gene-level copy number Gene-level threshold Region-level copy number  \\\n",
       "Original                  25988                25988                      638   \n",
       "0.05                       5569                25786                       72   \n",
       "0.10                        638                25119                        2   \n",
       "0.20                          0                18756                        0   \n",
       "0.25                          0                14983                        0   \n",
       "\n",
       "         Region-level threshold  \n",
       "Original                    638  \n",
       "0.05                         72  \n",
       "0.10                          2  \n",
       "0.20                          0  \n",
       "0.25                          0  "
      ]
     },
     "metadata": {},
     "output_type": "display_data"
    }
   ],
   "source": [
    "thresholds = [\"Original\", \"0.05\", \"0.10\", \"0.20\", \"0.25\"]\n",
    "fs_all = pd.DataFrame(None, index=thresholds, columns=mx_dicts.keys())\n",
    "\n",
    "# How many features will the matrices have after frequency-based reduction? \n",
    "for mxkey in mx_dicts.keys():\n",
    "    fsdict = applyThres_featuresize(mx_dicts[mxkey])\n",
    "    for thres in thresholds:\n",
    "        fs_all.loc[thres][mxkey] = fsdict[thres]\n",
    "display(fs_all)"
   ]
  },
  {
   "cell_type": "markdown",
   "metadata": {},
   "source": [
    "# Overall distribution of GISTIC2.0 outputs with conf=0.90"
   ]
  },
  {
   "cell_type": "code",
   "execution_count": 26,
   "metadata": {},
   "outputs": [],
   "source": [
    "gene_copy = pd.read_csv(\"../../gistic2_out_conf90/gene_copy_conf90.csv\", header=0, index_col=0)\n",
    "gene_thres = pd.read_csv(\"../../gistic2_out_conf90/gene_thres_conf90.csv\", header=0, index_col=0)\n",
    "reg_copy = pd.read_csv(\"../../gistic2_out_conf90/reg_copy_conf90.csv\", header=0, index_col=0).T\n",
    "reg_thres = pd.read_csv(\"../../gistic2_out_conf90/reg_thres_conf90.csv\", header=0, index_col=0).T"
   ]
  },
  {
   "cell_type": "code",
   "execution_count": 27,
   "metadata": {},
   "outputs": [],
   "source": [
    "mx_dicts = {}\n",
    "\n",
    "for i in range(len([gene_copy, gene_thres, reg_copy, reg_thres])):\n",
    "    mx_dicts[mx_names[i]] = [gene_copy, gene_thres, reg_copy, reg_thres][i]"
   ]
  },
  {
   "cell_type": "code",
   "execution_count": 28,
   "metadata": {},
   "outputs": [],
   "source": [
    "sum_table = pd.DataFrame(None, index=mx_names, columns=sumfeatures)\n",
    "\n",
    "for mxkey in mx_dicts.keys():\n",
    "    sumstatdict = mx_sumstats(mx_dicts[mxkey])\n",
    "    for sumkey in sumstatdict.keys():\n",
    "        sum_table.loc[mxkey][sumkey] = sumstatdict[sumkey]"
   ]
  },
  {
   "cell_type": "code",
   "execution_count": 29,
   "metadata": {},
   "outputs": [
    {
     "data": {
      "text/html": [
       "<div>\n",
       "<style scoped>\n",
       "    .dataframe tbody tr th:only-of-type {\n",
       "        vertical-align: middle;\n",
       "    }\n",
       "\n",
       "    .dataframe tbody tr th {\n",
       "        vertical-align: top;\n",
       "    }\n",
       "\n",
       "    .dataframe thead th {\n",
       "        text-align: right;\n",
       "    }\n",
       "</style>\n",
       "<table border=\"1\" class=\"dataframe\">\n",
       "  <thead>\n",
       "    <tr style=\"text-align: right;\">\n",
       "      <th></th>\n",
       "      <th>Gene-level copy number</th>\n",
       "      <th>Gene-level threshold</th>\n",
       "      <th>Region-level copy number</th>\n",
       "      <th>Region-level threshold</th>\n",
       "    </tr>\n",
       "  </thead>\n",
       "  <tbody>\n",
       "    <tr>\n",
       "      <td># features</td>\n",
       "      <td>25988</td>\n",
       "      <td>25988</td>\n",
       "      <td>638</td>\n",
       "      <td>638</td>\n",
       "    </tr>\n",
       "    <tr>\n",
       "      <td>Mean</td>\n",
       "      <td>0.0193007</td>\n",
       "      <td>0.135262</td>\n",
       "      <td>-0.0171783</td>\n",
       "      <td>0.373438</td>\n",
       "    </tr>\n",
       "    <tr>\n",
       "      <td>Min</td>\n",
       "      <td>-1.293</td>\n",
       "      <td>-2</td>\n",
       "      <td>-1.2929</td>\n",
       "      <td>0</td>\n",
       "    </tr>\n",
       "    <tr>\n",
       "      <td>25%</td>\n",
       "      <td>-0.045</td>\n",
       "      <td>0</td>\n",
       "      <td>-0.0981028</td>\n",
       "      <td>0</td>\n",
       "    </tr>\n",
       "    <tr>\n",
       "      <td>Median</td>\n",
       "      <td>0.006</td>\n",
       "      <td>0</td>\n",
       "      <td>5.1987e-05</td>\n",
       "      <td>0</td>\n",
       "    </tr>\n",
       "    <tr>\n",
       "      <td>75%</td>\n",
       "      <td>0.093</td>\n",
       "      <td>0</td>\n",
       "      <td>0.10412</td>\n",
       "      <td>1</td>\n",
       "    </tr>\n",
       "    <tr>\n",
       "      <td>Max</td>\n",
       "      <td>3.657</td>\n",
       "      <td>2</td>\n",
       "      <td>3.6569</td>\n",
       "      <td>2</td>\n",
       "    </tr>\n",
       "    <tr>\n",
       "      <td>% positive entries</td>\n",
       "      <td>53.4197</td>\n",
       "      <td>23.9989</td>\n",
       "      <td>50.0476</td>\n",
       "      <td>35.0933</td>\n",
       "    </tr>\n",
       "    <tr>\n",
       "      <td>% negative entries</td>\n",
       "      <td>43.6112</td>\n",
       "      <td>16.088</td>\n",
       "      <td>48.0856</td>\n",
       "      <td>0</td>\n",
       "    </tr>\n",
       "    <tr>\n",
       "      <td>% zero entries</td>\n",
       "      <td>2.96913</td>\n",
       "      <td>59.9131</td>\n",
       "      <td>1.86684</td>\n",
       "      <td>64.9067</td>\n",
       "    </tr>\n",
       "  </tbody>\n",
       "</table>\n",
       "</div>"
      ],
      "text/plain": [
       "                   Gene-level copy number Gene-level threshold  \\\n",
       "# features                          25988                25988   \n",
       "Mean                            0.0193007             0.135262   \n",
       "Min                                -1.293                   -2   \n",
       "25%                                -0.045                    0   \n",
       "Median                              0.006                    0   \n",
       "75%                                 0.093                    0   \n",
       "Max                                 3.657                    2   \n",
       "% positive entries                53.4197              23.9989   \n",
       "% negative entries                43.6112               16.088   \n",
       "% zero entries                    2.96913              59.9131   \n",
       "\n",
       "                   Region-level copy number Region-level threshold  \n",
       "# features                              638                    638  \n",
       "Mean                             -0.0171783               0.373438  \n",
       "Min                                 -1.2929                      0  \n",
       "25%                              -0.0981028                      0  \n",
       "Median                           5.1987e-05                      0  \n",
       "75%                                 0.10412                      1  \n",
       "Max                                  3.6569                      2  \n",
       "% positive entries                  50.0476                35.0933  \n",
       "% negative entries                  48.0856                      0  \n",
       "% zero entries                      1.86684                64.9067  "
      ]
     },
     "execution_count": 29,
     "metadata": {},
     "output_type": "execute_result"
    }
   ],
   "source": [
    "sum_table.T"
   ]
  },
  {
   "cell_type": "code",
   "execution_count": 30,
   "metadata": {},
   "outputs": [
    {
     "data": {
      "text/html": [
       "<div>\n",
       "<style scoped>\n",
       "    .dataframe tbody tr th:only-of-type {\n",
       "        vertical-align: middle;\n",
       "    }\n",
       "\n",
       "    .dataframe tbody tr th {\n",
       "        vertical-align: top;\n",
       "    }\n",
       "\n",
       "    .dataframe thead th {\n",
       "        text-align: right;\n",
       "    }\n",
       "</style>\n",
       "<table border=\"1\" class=\"dataframe\">\n",
       "  <thead>\n",
       "    <tr style=\"text-align: right;\">\n",
       "      <th></th>\n",
       "      <th>Gene-level copy number</th>\n",
       "      <th>Gene-level threshold</th>\n",
       "      <th>Region-level copy number</th>\n",
       "      <th>Region-level threshold</th>\n",
       "    </tr>\n",
       "  </thead>\n",
       "  <tbody>\n",
       "    <tr>\n",
       "      <td>Original</td>\n",
       "      <td>25988</td>\n",
       "      <td>25988</td>\n",
       "      <td>638</td>\n",
       "      <td>638</td>\n",
       "    </tr>\n",
       "    <tr>\n",
       "      <td>0.05</td>\n",
       "      <td>5569</td>\n",
       "      <td>25786</td>\n",
       "      <td>72</td>\n",
       "      <td>637</td>\n",
       "    </tr>\n",
       "    <tr>\n",
       "      <td>0.10</td>\n",
       "      <td>638</td>\n",
       "      <td>25119</td>\n",
       "      <td>2</td>\n",
       "      <td>625</td>\n",
       "    </tr>\n",
       "    <tr>\n",
       "      <td>0.20</td>\n",
       "      <td>0</td>\n",
       "      <td>18756</td>\n",
       "      <td>0</td>\n",
       "      <td>472</td>\n",
       "    </tr>\n",
       "    <tr>\n",
       "      <td>0.25</td>\n",
       "      <td>0</td>\n",
       "      <td>14983</td>\n",
       "      <td>0</td>\n",
       "      <td>357</td>\n",
       "    </tr>\n",
       "  </tbody>\n",
       "</table>\n",
       "</div>"
      ],
      "text/plain": [
       "         Gene-level copy number Gene-level threshold Region-level copy number  \\\n",
       "Original                  25988                25988                      638   \n",
       "0.05                       5569                25786                       72   \n",
       "0.10                        638                25119                        2   \n",
       "0.20                          0                18756                        0   \n",
       "0.25                          0                14983                        0   \n",
       "\n",
       "         Region-level threshold  \n",
       "Original                    638  \n",
       "0.05                        637  \n",
       "0.10                        625  \n",
       "0.20                        472  \n",
       "0.25                        357  "
      ]
     },
     "metadata": {},
     "output_type": "display_data"
    }
   ],
   "source": [
    "# How many features will the matrices have after frequency-based reduction? \n",
    "thresholds = [\"Original\", \"0.05\", \"0.10\", \"0.20\", \"0.25\"]\n",
    "fs_all = pd.DataFrame(None, index=thresholds, columns=mx_dicts.keys())\n",
    "\n",
    "# How many features will the matrices have after frequency-based reduction? \n",
    "for mxkey in mx_dicts.keys():\n",
    "    fsdict = applyThres_featuresize(mx_dicts[mxkey])\n",
    "    for thres in thresholds:\n",
    "        fs_all.loc[thres][mxkey] = fsdict[thres]\n",
    "display(fs_all)"
   ]
  },
  {
   "cell_type": "markdown",
   "metadata": {},
   "source": [
    "# Overall distributions for in-house feature matrices "
   ]
  },
  {
   "cell_type": "code",
   "execution_count": 31,
   "metadata": {},
   "outputs": [],
   "source": [
    "mx_names = [\"refGene-based feature mx\", \"GATK-based feature mx\"]"
   ]
  },
  {
   "cell_type": "code",
   "execution_count": 32,
   "metadata": {},
   "outputs": [],
   "source": [
    "mx_dicts = {}\n",
    "\n",
    "mx_dicts[mx_names[0]] = pd.read_csv(\"../../inhouse_features_output/refGene_cnv_gene_matrix.csv\", header=0, index_col=0)\n",
    "mx_dicts[mx_names[1]] = pd.read_csv(\"../../inhouse_features_output/gatk_cnv_gene_matrix.csv\", header=0, index_col=0)"
   ]
  },
  {
   "cell_type": "code",
   "execution_count": 33,
   "metadata": {},
   "outputs": [],
   "source": [
    "sum_table = pd.DataFrame(None, index=mx_names, columns=sumfeatures)\n",
    "\n",
    "for mxkey in mx_dicts.keys():\n",
    "    sumstatdict = mx_sumstats(mx_dicts[mxkey])\n",
    "    for sumkey in sumstatdict.keys():\n",
    "        sum_table.loc[mxkey][sumkey] = sumstatdict[sumkey]"
   ]
  },
  {
   "cell_type": "code",
   "execution_count": 34,
   "metadata": {},
   "outputs": [
    {
     "data": {
      "text/html": [
       "<div>\n",
       "<style scoped>\n",
       "    .dataframe tbody tr th:only-of-type {\n",
       "        vertical-align: middle;\n",
       "    }\n",
       "\n",
       "    .dataframe tbody tr th {\n",
       "        vertical-align: top;\n",
       "    }\n",
       "\n",
       "    .dataframe thead th {\n",
       "        text-align: right;\n",
       "    }\n",
       "</style>\n",
       "<table border=\"1\" class=\"dataframe\">\n",
       "  <thead>\n",
       "    <tr style=\"text-align: right;\">\n",
       "      <th></th>\n",
       "      <th>refGene-based feature mx</th>\n",
       "      <th>GATK-based feature mx</th>\n",
       "    </tr>\n",
       "  </thead>\n",
       "  <tbody>\n",
       "    <tr>\n",
       "      <td># features</td>\n",
       "      <td>28046</td>\n",
       "      <td>55735</td>\n",
       "    </tr>\n",
       "    <tr>\n",
       "      <td>Mean</td>\n",
       "      <td>-0.0668399</td>\n",
       "      <td>-0.0596054</td>\n",
       "    </tr>\n",
       "    <tr>\n",
       "      <td>Min</td>\n",
       "      <td>-31.5209</td>\n",
       "      <td>-31.5209</td>\n",
       "    </tr>\n",
       "    <tr>\n",
       "      <td>25%</td>\n",
       "      <td>0</td>\n",
       "      <td>0</td>\n",
       "    </tr>\n",
       "    <tr>\n",
       "      <td>Median</td>\n",
       "      <td>0</td>\n",
       "      <td>0</td>\n",
       "    </tr>\n",
       "    <tr>\n",
       "      <td>75%</td>\n",
       "      <td>0</td>\n",
       "      <td>0</td>\n",
       "    </tr>\n",
       "    <tr>\n",
       "      <td>Max</td>\n",
       "      <td>6.50117</td>\n",
       "      <td>6.50117</td>\n",
       "    </tr>\n",
       "    <tr>\n",
       "      <td>% positive entries</td>\n",
       "      <td>13.6156</td>\n",
       "      <td>11.5889</td>\n",
       "    </tr>\n",
       "    <tr>\n",
       "      <td>% negative entries</td>\n",
       "      <td>10.97</td>\n",
       "      <td>11.195</td>\n",
       "    </tr>\n",
       "    <tr>\n",
       "      <td>% zero entries</td>\n",
       "      <td>75.4143</td>\n",
       "      <td>77.2161</td>\n",
       "    </tr>\n",
       "  </tbody>\n",
       "</table>\n",
       "</div>"
      ],
      "text/plain": [
       "                   refGene-based feature mx GATK-based feature mx\n",
       "# features                            28046                 55735\n",
       "Mean                             -0.0668399            -0.0596054\n",
       "Min                                -31.5209              -31.5209\n",
       "25%                                       0                     0\n",
       "Median                                    0                     0\n",
       "75%                                       0                     0\n",
       "Max                                 6.50117               6.50117\n",
       "% positive entries                  13.6156               11.5889\n",
       "% negative entries                    10.97                11.195\n",
       "% zero entries                      75.4143               77.2161"
      ]
     },
     "execution_count": 34,
     "metadata": {},
     "output_type": "execute_result"
    }
   ],
   "source": [
    "sum_table.T"
   ]
  },
  {
   "cell_type": "code",
   "execution_count": 37,
   "metadata": {},
   "outputs": [
    {
     "data": {
      "text/html": [
       "<div>\n",
       "<style scoped>\n",
       "    .dataframe tbody tr th:only-of-type {\n",
       "        vertical-align: middle;\n",
       "    }\n",
       "\n",
       "    .dataframe tbody tr th {\n",
       "        vertical-align: top;\n",
       "    }\n",
       "\n",
       "    .dataframe thead th {\n",
       "        text-align: right;\n",
       "    }\n",
       "</style>\n",
       "<table border=\"1\" class=\"dataframe\">\n",
       "  <thead>\n",
       "    <tr style=\"text-align: right;\">\n",
       "      <th></th>\n",
       "      <th>refGene-based feature mx</th>\n",
       "      <th>GATK-based feature mx</th>\n",
       "    </tr>\n",
       "  </thead>\n",
       "  <tbody>\n",
       "    <tr>\n",
       "      <td>Original</td>\n",
       "      <td>28046</td>\n",
       "      <td>55735</td>\n",
       "    </tr>\n",
       "    <tr>\n",
       "      <td>0.05</td>\n",
       "      <td>23887</td>\n",
       "      <td>46151</td>\n",
       "    </tr>\n",
       "    <tr>\n",
       "      <td>0.10</td>\n",
       "      <td>18829</td>\n",
       "      <td>35446</td>\n",
       "    </tr>\n",
       "    <tr>\n",
       "      <td>0.20</td>\n",
       "      <td>12800</td>\n",
       "      <td>22846</td>\n",
       "    </tr>\n",
       "    <tr>\n",
       "      <td>0.25</td>\n",
       "      <td>10566</td>\n",
       "      <td>18569</td>\n",
       "    </tr>\n",
       "  </tbody>\n",
       "</table>\n",
       "</div>"
      ],
      "text/plain": [
       "         refGene-based feature mx GATK-based feature mx\n",
       "Original                    28046                 55735\n",
       "0.05                        23887                 46151\n",
       "0.10                        18829                 35446\n",
       "0.20                        12800                 22846\n",
       "0.25                        10566                 18569"
      ]
     },
     "metadata": {},
     "output_type": "display_data"
    }
   ],
   "source": [
    "# How many features will the matrices have after frequency-based reduction? \n",
    "thresholds = [\"Original\", \"0.05\", \"0.10\", \"0.20\", \"0.25\"]\n",
    "fs_all = pd.DataFrame(None, index=thresholds, columns=mx_dicts.keys())\n",
    "\n",
    "# How many features will the matrices have after frequency-based reduction? \n",
    "for mxkey in mx_dicts.keys():\n",
    "    fsdict = applyThres_featuresize(mx_dicts[mxkey])\n",
    "    for thres in thresholds:\n",
    "        fs_all.loc[thres][mxkey] = fsdict[thres]\n",
    "display(fs_all)"
   ]
  },
  {
   "cell_type": "markdown",
   "metadata": {},
   "source": [
    "## Inspect which features are causing negative skew in in-house features"
   ]
  },
  {
   "cell_type": "code",
   "execution_count": 49,
   "metadata": {},
   "outputs": [
    {
     "name": "stdout",
     "output_type": "stream",
     "text": [
      "Number of features that have values < -5 in refGene: 23\n",
      "Number of features that have values < -10 in refGene: 21\n",
      "Number of features that have values < -20 in refGene: 8\n",
      "Number of features that have values < -30 in refGene: 2\n"
     ]
    }
   ],
   "source": [
    "# in refGene matrix\n",
    "# how many features have values <-5.0? how many have < -10.0? <-20.0? and <-30.0?? \n",
    "print(\"Number of features that have values < -5 in refGene: {}\".format(\n",
    "    np.sum([np.any(mx_dicts[mx_names[0]].iloc[:,x] < -5) for x in range(mx_dicts[mx_names[0]].shape[0])])\n",
    "))\n",
    "print(\"Number of features that have values < -10 in refGene: {}\".format(\n",
    "    np.sum([np.any(mx_dicts[mx_names[0]].iloc[:,x] < -10) for x in range(mx_dicts[mx_names[0]].shape[0])])\n",
    "))\n",
    "print(\"Number of features that have values < -20 in refGene: {}\".format(\n",
    "    np.sum([np.any(mx_dicts[mx_names[0]].iloc[:,x] < -20) for x in range(mx_dicts[mx_names[0]].shape[0])])\n",
    "))\n",
    "print(\"Number of features that have values < -30 in refGene: {}\".format(\n",
    "    np.sum([np.any(mx_dicts[mx_names[0]].iloc[:,x] < -30) for x in range(mx_dicts[mx_names[0]].shape[0])])\n",
    "))"
   ]
  },
  {
   "cell_type": "code",
   "execution_count": 57,
   "metadata": {},
   "outputs": [
    {
     "name": "stdout",
     "output_type": "stream",
     "text": [
      "Gene features that had highly negative values (< -20) in refGene:\n",
      "['LOC400627', 'KHDRBS3', 'FAM66D', 'URAHP', 'PRAMEF6', 'TMEM220-AS1', 'FAM157C', 'GRK4']\n"
     ]
    }
   ],
   "source": [
    "print(\"Gene features that had highly negative values (< -20) in refGene:\")\n",
    "print(list(\n",
    "    compress(\n",
    "        list(mx_dicts[mx_names[0]].columns), \n",
    "        [np.any(mx_dicts[mx_names[0]].iloc[:,x] < -20) for x in range(mx_dicts[mx_names[0]].shape[0])]\n",
    "    )\n",
    "))"
   ]
  },
  {
   "cell_type": "code",
   "execution_count": 58,
   "metadata": {},
   "outputs": [
    {
     "name": "stdout",
     "output_type": "stream",
     "text": [
      "Number of features that have values < -5 in GATK: 17\n",
      "Number of features that have values < -10 in GATK: 15\n",
      "Number of features that have values < -20 in GATK: 7\n",
      "Number of features that have values < -30 in GATK: 1\n"
     ]
    }
   ],
   "source": [
    "# in GATK matrix\n",
    "# how many features have values <-5.0? how many have < -10.0? <-20.0? and <-30.0?? \n",
    "print(\"Number of features that have values < -5 in GATK: {}\".format(\n",
    "    np.sum([np.any(mx_dicts[mx_names[1]].iloc[:,x] < -5) for x in range(mx_dicts[mx_names[0]].shape[0])])\n",
    "))\n",
    "print(\"Number of features that have values < -10 in GATK: {}\".format(\n",
    "    np.sum([np.any(mx_dicts[mx_names[1]].iloc[:,x] < -10) for x in range(mx_dicts[mx_names[0]].shape[0])])\n",
    "))\n",
    "print(\"Number of features that have values < -20 in GATK: {}\".format(\n",
    "    np.sum([np.any(mx_dicts[mx_names[1]].iloc[:,x] < -20) for x in range(mx_dicts[mx_names[0]].shape[0])])\n",
    "))\n",
    "print(\"Number of features that have values < -30 in GATK: {}\".format(\n",
    "    np.sum([np.any(mx_dicts[mx_names[1]].iloc[:,x] < -30) for x in range(mx_dicts[mx_names[0]].shape[0])])\n",
    "))"
   ]
  },
  {
   "cell_type": "code",
   "execution_count": 60,
   "metadata": {},
   "outputs": [
    {
     "name": "stdout",
     "output_type": "stream",
     "text": [
      "Gene features that had highly negative values (< -20) in GATK:\n",
      "['Y_RNA', 'FAM157C', 'TRIM64C', 'GAS7', 'MIR3179-1', 'VSTM1', 'TMEM220-AS1']\n"
     ]
    }
   ],
   "source": [
    "print(\"Gene features that had highly negative values (< -20) in GATK:\")\n",
    "print(list(\n",
    "    compress(\n",
    "        list(mx_dicts[mx_names[1]].columns), \n",
    "        [np.any(mx_dicts[mx_names[1]].iloc[:,x] < -20) for x in range(mx_dicts[mx_names[1]].shape[0])]\n",
    "    )\n",
    "))"
   ]
  },
  {
   "cell_type": "markdown",
   "metadata": {},
   "source": [
    "## How many features in GATK have patterns \"AC\" \"AR\" \"CR\" etc. ??? "
   ]
  },
  {
   "cell_type": "code",
   "execution_count": 62,
   "metadata": {},
   "outputs": [
    {
     "name": "stdout",
     "output_type": "stream",
     "text": [
      "Number of genes with pattern AC<num>:  12791\n",
      "Sample:  ['AC004801.7', 'AC137056.2', 'AC012414.2', 'AC010551.3', 'AC024361.2']\n"
     ]
    }
   ],
   "source": [
    "ac_list = []\n",
    "gene_list = list(mx_dicts[mx_names[1]].columns)\n",
    "\n",
    "for i in range(len(gene_list)):\n",
    "    if re.search(r\"\\bAC[0-9]\", gene_list[i]) != None:\n",
    "        ac_list.append(gene_list[i])\n",
    "\n",
    "print(\"Number of genes with pattern AC<num>: \", len(ac_list))\n",
    "print(\"Sample: \", ac_list[:5])"
   ]
  },
  {
   "cell_type": "code",
   "execution_count": 66,
   "metadata": {},
   "outputs": [
    {
     "name": "stdout",
     "output_type": "stream",
     "text": [
      "Number of genes with pattern AL<num>:  4744\n",
      "Sample:  ['AL136164.2', 'AL133367.1', 'AL161773.1', 'AL132712.2', 'AL161722.1']\n"
     ]
    }
   ],
   "source": [
    "al_list = []\n",
    "for i in range(len(gene_list)):\n",
    "    if re.search(r\"\\bAL[0-9]\", gene_list[i]) != None:\n",
    "        al_list.append(gene_list[i])\n",
    "\n",
    "print(\"Number of genes with pattern AL<num>: \", len(al_list))\n",
    "print(\"Sample: \", al_list[:5])"
   ]
  },
  {
   "cell_type": "code",
   "execution_count": 67,
   "metadata": {},
   "outputs": [
    {
     "name": "stdout",
     "output_type": "stream",
     "text": [
      "Number of genes with pattern AL<num>:  1206\n",
      "Sample:  ['AP002748.2', 'AP003096.1', 'AP001462.1', 'AP003716.1', 'AP003774.1']\n"
     ]
    }
   ],
   "source": [
    "ap_list = []\n",
    "for i in range(len(gene_list)):\n",
    "    if re.search(r\"\\bAP[0-9]\", gene_list[i]) != None:\n",
    "        ap_list.append(gene_list[i])\n",
    "\n",
    "print(\"Number of genes with pattern AP<num>: \", len(ap_list))\n",
    "print(\"Sample: \", ap_list[:5])"
   ]
  },
  {
   "cell_type": "code",
   "execution_count": 68,
   "metadata": {},
   "outputs": [
    {
     "name": "stdout",
     "output_type": "stream",
     "text": [
      "Number of genes with pattern AL<num>:  44\n",
      "Sample:  ['CR383656.4', 'CR383656.9', 'CR559946.1', 'CR383656.1', 'CR383656.5']\n"
     ]
    }
   ],
   "source": [
    "cr_list = []\n",
    "for i in range(len(gene_list)):\n",
    "    if re.search(r\"\\bCR[0-9]\", gene_list[i]) != None:\n",
    "        cr_list.append(gene_list[i])\n",
    "\n",
    "print(\"Number of genes with pattern CR<num>: \", len(cr_list))\n",
    "print(\"Sample: \", cr_list[:5])"
   ]
  },
  {
   "cell_type": "code",
   "execution_count": 63,
   "metadata": {},
   "outputs": [
    {
     "name": "stdout",
     "output_type": "stream",
     "text": [
      "Number of genes with pattern MIR<num>:  1901\n",
      "Sample:  ['MIR4330', 'MIR4507', 'MIR526A1', 'MIR3179-1', 'MIR4648']\n"
     ]
    }
   ],
   "source": [
    "mir_list = []\n",
    "for i in range(len(gene_list)):\n",
    "    if re.search(r\"\\bMIR[0-9]\", gene_list[i]) != None:\n",
    "        mir_list.append(gene_list[i])\n",
    "\n",
    "print(\"Number of genes with pattern MIR<num>: \", len(mir_list))\n",
    "print(\"Sample: \", mir_list[:5])"
   ]
  },
  {
   "cell_type": "code",
   "execution_count": 65,
   "metadata": {},
   "outputs": [
    {
     "name": "stdout",
     "output_type": "stream",
     "text": [
      "Number of genes with pattern LINC<num>:  1849\n",
      "Sample:  ['LINC00565', 'LINC01864', 'LINC02369', 'LINC00893', 'LINC01704']\n"
     ]
    }
   ],
   "source": [
    "linc_list = []\n",
    "for i in range(len(gene_list)):\n",
    "    if re.search(r\"\\bLINC[0-9]\", gene_list[i]) != None:\n",
    "        linc_list.append(gene_list[i])\n",
    "\n",
    "print(\"Number of genes with pattern LINC<num>: \", len(linc_list))\n",
    "print(\"Sample: \", linc_list[:5])"
   ]
  },
  {
   "cell_type": "code",
   "execution_count": null,
   "metadata": {},
   "outputs": [],
   "source": []
  }
 ],
 "metadata": {
  "kernelspec": {
   "display_name": "Python 3",
   "language": "python",
   "name": "python3"
  },
  "language_info": {
   "codemirror_mode": {
    "name": "ipython",
    "version": 3
   },
   "file_extension": ".py",
   "mimetype": "text/x-python",
   "name": "python",
   "nbconvert_exporter": "python",
   "pygments_lexer": "ipython3",
   "version": "3.7.4"
  }
 },
 "nbformat": 4,
 "nbformat_minor": 2
}
